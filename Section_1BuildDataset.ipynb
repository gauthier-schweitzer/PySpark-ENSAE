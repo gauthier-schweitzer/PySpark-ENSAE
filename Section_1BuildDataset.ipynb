{
 "cells": [
  {
   "cell_type": "code",
   "execution_count": 1,
   "metadata": {},
   "outputs": [],
   "source": [
    "from pyspark.sql import SparkSession\n",
    "spark = SparkSession.builder.getOrCreate()\n",
    "# creates and instantiates a pyspark.sql.session.SparkSession object"
   ]
  },
  {
   "cell_type": "code",
   "execution_count": 2,
   "metadata": {},
   "outputs": [],
   "source": [
    "from pyspark.sql import functions as F"
   ]
  },
  {
   "cell_type": "code",
   "execution_count": 3,
   "metadata": {},
   "outputs": [],
   "source": [
    "from jyquickhelper import add_notebook_menu\n",
    "from progressbar import ProgressBar"
   ]
  },
  {
   "cell_type": "code",
   "execution_count": 4,
   "metadata": {},
   "outputs": [
    {
     "data": {
      "text/html": [
       "<div id=\"my_id_menu_nb\">run previous cell, wait for 2 seconds</div>\n",
       "<script>\n",
       "function repeat_indent_string(n){\n",
       "    var a = \"\" ;\n",
       "    for ( ; n > 0 ; --n)\n",
       "        a += \"    \";\n",
       "    return a;\n",
       "}\n",
       "// look up into all sections and builds an automated menu //\n",
       "var update_menu_string = function(begin, lfirst, llast, sformat, send, keep_item, begin_format, end_format) {\n",
       "    var anchors = document.getElementsByClassName(\"section\");\n",
       "    if (anchors.length == 0) {\n",
       "        anchors = document.getElementsByClassName(\"text_cell_render rendered_html\");\n",
       "    }\n",
       "    var i,t;\n",
       "    var text_menu = begin;\n",
       "    var text_memo = \"<pre>\\nlength:\" + anchors.length + \"\\n\";\n",
       "    var ind = \"\";\n",
       "    var memo_level = 1;\n",
       "    var href;\n",
       "    var tags = [];\n",
       "    var main_item = 0;\n",
       "    var format_open = 0;\n",
       "    for (i = 0; i <= llast; i++)\n",
       "        tags.push(\"h\" + i);\n",
       "\n",
       "    for (i = 0; i < anchors.length; i++) {\n",
       "        text_memo += \"**\" + anchors[i].id + \"--\\n\";\n",
       "\n",
       "        var child = null;\n",
       "        for(t = 0; t < tags.length; t++) {\n",
       "            var r = anchors[i].getElementsByTagName(tags[t]);\n",
       "            if (r.length > 0) {\n",
       "child = r[0];\n",
       "break;\n",
       "            }\n",
       "        }\n",
       "        if (child == null) {\n",
       "            text_memo += \"null\\n\";\n",
       "            continue;\n",
       "        }\n",
       "        if (anchors[i].hasAttribute(\"id\")) {\n",
       "            // when converted in RST\n",
       "            href = anchors[i].id;\n",
       "            text_memo += \"#1-\" + href;\n",
       "            // passer à child suivant (le chercher)\n",
       "        }\n",
       "        else if (child.hasAttribute(\"id\")) {\n",
       "            // in a notebook\n",
       "            href = child.id;\n",
       "            text_memo += \"#2-\" + href;\n",
       "        }\n",
       "        else {\n",
       "            text_memo += \"#3-\" + \"*\" + \"\\n\";\n",
       "            continue;\n",
       "        }\n",
       "        var title = child.textContent;\n",
       "        var level = parseInt(child.tagName.substring(1,2));\n",
       "\n",
       "        text_memo += \"--\" + level + \"?\" + lfirst + \"--\" + title + \"\\n\";\n",
       "\n",
       "        if ((level < lfirst) || (level > llast)) {\n",
       "            continue ;\n",
       "        }\n",
       "        if (title.endsWith('¶')) {\n",
       "            title = title.substring(0,title.length-1).replace(\"<\", \"&lt;\")\n",
       "         .replace(\">\", \"&gt;\").replace(\"&\", \"&amp;\");\n",
       "        }\n",
       "        if (title.length == 0) {\n",
       "            continue;\n",
       "        }\n",
       "\n",
       "        while (level < memo_level) {\n",
       "            text_menu += end_format + \"</ul>\\n\";\n",
       "            format_open -= 1;\n",
       "            memo_level -= 1;\n",
       "        }\n",
       "        if (level == lfirst) {\n",
       "            main_item += 1;\n",
       "        }\n",
       "        if (keep_item != -1 && main_item != keep_item + 1) {\n",
       "            // alert(main_item + \" - \" + level + \" - \" + keep_item);\n",
       "            continue;\n",
       "        }\n",
       "        while (level > memo_level) {\n",
       "            text_menu += \"<ul>\\n\";\n",
       "            memo_level += 1;\n",
       "        }\n",
       "        text_menu += repeat_indent_string(level-2);\n",
       "        text_menu += begin_format + sformat.replace(\"__HREF__\", href).replace(\"__TITLE__\", title);\n",
       "        format_open += 1;\n",
       "    }\n",
       "    while (1 < memo_level) {\n",
       "        text_menu += end_format + \"</ul>\\n\";\n",
       "        memo_level -= 1;\n",
       "        format_open -= 1;\n",
       "    }\n",
       "    text_menu += send;\n",
       "    //text_menu += \"\\n\" + text_memo;\n",
       "\n",
       "    while (format_open > 0) {\n",
       "        text_menu += end_format;\n",
       "        format_open -= 1;\n",
       "    }\n",
       "    return text_menu;\n",
       "};\n",
       "var update_menu = function() {\n",
       "    var sbegin = \"\";\n",
       "    var sformat = '<a href=\"#__HREF__\">__TITLE__</a>';\n",
       "    var send = \"\";\n",
       "    var begin_format = '<li>';\n",
       "    var end_format = '</li>';\n",
       "    var keep_item = -1;\n",
       "    var text_menu = update_menu_string(sbegin, 2, 4, sformat, send, keep_item,\n",
       "       begin_format, end_format);\n",
       "    var menu = document.getElementById(\"my_id_menu_nb\");\n",
       "    menu.innerHTML=text_menu;\n",
       "};\n",
       "window.setTimeout(update_menu,2000);\n",
       "            </script>"
      ],
      "text/plain": [
       "<IPython.core.display.HTML object>"
      ]
     },
     "execution_count": 4,
     "metadata": {},
     "output_type": "execute_result"
    }
   ],
   "source": [
    "add_notebook_menu()"
   ]
  },
  {
   "cell_type": "markdown",
   "metadata": {},
   "source": [
    "# Build dataset"
   ]
  },
  {
   "cell_type": "markdown",
   "metadata": {},
   "source": [
    "The purpose of this notebook is to build a unique dataframe based on the various files `lieux_yyyy.csv`, `vehicules_yyyy.csv`, `caracteristiques_yyyy.csv` and `vehicules_yyyy.csv` (with `yyyy` ranging from 2005 to 2016) available on <data.gouv.fr>. "
   ]
  },
  {
   "cell_type": "markdown",
   "metadata": {},
   "source": [
    "## Put data on the cluster "
   ]
  },
  {
   "cell_type": "markdown",
   "metadata": {},
   "source": [
    "Although we are actually working locally, we are aware that when working on a cluster, having the data on the notebook server is not sufficient to access them from the cluster. Prior to any distributed computation, it is thus necessary to put our data on the cluster's storage system which is managed by the Hadoop Distributed File System (HDFS)."
   ]
  },
  {
   "cell_type": "markdown",
   "metadata": {},
   "source": [
    "Next we report a code snippet that would produce the code to do so.\n",
    "\n",
    "```python\n",
    "years = list(range(2005,2016))\n",
    "fileId = ['vehicules','lieux','usagers','caracteristiques']\n",
    "for file in fileId:\n",
    "    for year in years:\n",
    "        path1 = './Projets/dataSample/'+ file + '_' + str(year) +'.csv'\n",
    "        path2 = './dataSample/'+ file + '_' + str(year) +'.csv'\n",
    "        print('!hadoop fs -put', path1, path2)\n",
    "```  "
   ]
  },
  {
   "cell_type": "markdown",
   "metadata": {},
   "source": [
    "## Unique dataset"
   ]
  },
  {
   "cell_type": "markdown",
   "metadata": {},
   "source": [
    "**Step 1**: We build 4 dataframes using the different csv files and store them in a dictionary `result`."
   ]
  },
  {
   "cell_type": "code",
   "execution_count": 5,
   "metadata": {},
   "outputs": [
    {
     "name": "stderr",
     "output_type": "stream",
     "text": [
      "100% (4 of 4) |##########################| Elapsed Time: 0:00:34 Time:  0:00:34\n"
     ]
    }
   ],
   "source": [
    "years = list(range(2005,2017))\n",
    "fileId = ['vehicules','lieux','usagers','caracteristiques']\n",
    "result = {}\n",
    "pbar = ProgressBar()\n",
    "\n",
    "for file in pbar(fileId):\n",
    "    if file in result.keys():\n",
    "        #avoid to stack if we already compute the loop\n",
    "        print(file+' already exists')\n",
    "    else:\n",
    "        for year in years:\n",
    "            path = './dataSample/'+ file + '_' + str(year) +'.csv'\n",
    "            # print(path)\n",
    "            if file not in result.keys():\n",
    "                df_new = spark.read.csv(path, header=True, sep=\",\", inferSchema=True)\n",
    "                result[file] = df_new\n",
    "            else:\n",
    "                df_new = spark.read.csv(path, header=True, sep=\",\", inferSchema=True)\n",
    "                result[file] = result[file].union(df_new)"
   ]
  },
  {
   "cell_type": "markdown",
   "metadata": {},
   "source": [
    "**Check 1** : Before going any further, we display the first few rows of each dataframe, together with their schemas and basic statistics (number of rows and columns)."
   ]
  },
  {
   "cell_type": "code",
   "execution_count": 6,
   "metadata": {},
   "outputs": [
    {
     "name": "stdout",
     "output_type": "stream",
     "text": [
      "vehicules has 9 variables and 1433389 rows\n",
      "+------------+----+----+------+---+----+----+----+-------+\n",
      "|     Num_Acc|senc|catv|occutc|obs|obsm|choc|manv|num_veh|\n",
      "+------------+----+----+------+---+----+----+----+-------+\n",
      "|200500000001|   0|   7|     0|  0|   2|   1|   1|    A01|\n",
      "|200500000001|   0|   7|     0|  0|   2|   8|  10|    B02|\n",
      "|200500000002|   0|   7|     0|  0|   2|   7|  16|    A01|\n",
      "|200500000002|   0|   2|     0|  0|   2|   1|   1|    B02|\n",
      "|200500000003|   0|   2|     0|  0|   2|   1|   1|    A01|\n",
      "+------------+----+----+------+---+----+----+----+-------+\n",
      "only showing top 5 rows\n",
      "\n",
      "root\n",
      " |-- Num_Acc: long (nullable = true)\n",
      " |-- senc: integer (nullable = true)\n",
      " |-- catv: integer (nullable = true)\n",
      " |-- occutc: integer (nullable = true)\n",
      " |-- obs: integer (nullable = true)\n",
      " |-- obsm: integer (nullable = true)\n",
      " |-- choc: integer (nullable = true)\n",
      " |-- manv: integer (nullable = true)\n",
      " |-- num_veh: string (nullable = true)\n",
      "\n",
      "lieux has 18 variables and 839985 rows\n",
      "+------------+----+----+---+----+----+---+----+---+----+----+----+------+-------+----+-----+----+----+\n",
      "|     Num_Acc|catr|voie| v1|  v2|circ|nbv|  pr|pr1|vosp|prof|plan|lartpc|larrout|surf|infra|situ|env1|\n",
      "+------------+----+----+---+----+----+---+----+---+----+----+----+------+-------+----+-----+----+----+\n",
      "|200500000001|   3|  41|  0|   B|   2|  2| 1.0|430|   0|   1|   1|     0|     63|   1|    0|   1|   0|\n",
      "|200500000002|   2|  41|  0|null|   0|  2| 0.0|  0|   1|   1|   1|     0|    100|   1|    0|   5|   0|\n",
      "|200500000003|   2|  41|  0|null|   0|  0| 0.0|  0|   1|   1|   1|     0|      0|   2|    0|   5|   0|\n",
      "|200500000004|   3| 916|  0|null|   2|  2| 0.0|  0|   0|   1|   1|     0|      0|   1|    0|   1|   0|\n",
      "|200500000005|   3| 110|  0|null|   2|  2|24.0|630|   0|   1|   3|     0|     59|   2|    0|   3|   0|\n",
      "+------------+----+----+---+----+----+---+----+---+----+----+----+------+-------+----+-----+----+----+\n",
      "only showing top 5 rows\n",
      "\n",
      "root\n",
      " |-- Num_Acc: long (nullable = true)\n",
      " |-- catr: integer (nullable = true)\n",
      " |-- voie: string (nullable = true)\n",
      " |-- v1: integer (nullable = true)\n",
      " |-- v2: string (nullable = true)\n",
      " |-- circ: integer (nullable = true)\n",
      " |-- nbv: integer (nullable = true)\n",
      " |-- pr: double (nullable = true)\n",
      " |-- pr1: integer (nullable = true)\n",
      " |-- vosp: integer (nullable = true)\n",
      " |-- prof: integer (nullable = true)\n",
      " |-- plan: integer (nullable = true)\n",
      " |-- lartpc: integer (nullable = true)\n",
      " |-- larrout: integer (nullable = true)\n",
      " |-- surf: integer (nullable = true)\n",
      " |-- infra: integer (nullable = true)\n",
      " |-- situ: integer (nullable = true)\n",
      " |-- env1: integer (nullable = true)\n",
      "\n",
      "usagers has 12 variables and 1876005 rows\n",
      "+------------+-----+----+----+----+------+----+----+----+-----+-------+-------+\n",
      "|     Num_Acc|place|catu|grav|sexe|trajet|secu|locp|actp|etatp|an_nais|num_veh|\n",
      "+------------+-----+----+----+----+------+----+----+----+-----+-------+-------+\n",
      "|200500000001|    1|   1|   4|   1|     1|  11|   0|   0|    0|   1976|    A01|\n",
      "|200500000001|    1|   1|   3|   2|     3|  11|   0|   0|    0|   1968|    B02|\n",
      "|200500000001|    2|   2|   1|   1|     0|  11|   0|   0|    0|   1964|    B02|\n",
      "|200500000001|    4|   2|   1|   1|     0|  31|   0|   0|    0|   2004|    B02|\n",
      "|200500000001|    5|   2|   1|   1|     0|  11|   0|   0|    0|   1998|    B02|\n",
      "+------------+-----+----+----+----+------+----+----+----+-----+-------+-------+\n",
      "only showing top 5 rows\n",
      "\n",
      "root\n",
      " |-- Num_Acc: long (nullable = true)\n",
      " |-- place: integer (nullable = true)\n",
      " |-- catu: integer (nullable = true)\n",
      " |-- grav: integer (nullable = true)\n",
      " |-- sexe: integer (nullable = true)\n",
      " |-- trajet: integer (nullable = true)\n",
      " |-- secu: integer (nullable = true)\n",
      " |-- locp: integer (nullable = true)\n",
      " |-- actp: integer (nullable = true)\n",
      " |-- etatp: integer (nullable = true)\n",
      " |-- an_nais: integer (nullable = true)\n",
      " |-- num_veh: string (nullable = true)\n",
      "\n",
      "caracteristiques has 16 variables and 839985 rows\n",
      "+------------+---+----+----+----+---+---+---+---+---+---+------------+---+-------+-------+---+\n",
      "|     Num_Acc| an|mois|jour|hrmn|lum|agg|int|atm|col|com|         adr|gps|    lat|   long|dep|\n",
      "+------------+---+----+----+----+---+---+---+---+---+---+------------+---+-------+-------+---+\n",
      "|200500000001|  5|   1|  12|1900|  3|  2|  1|  1|  3| 11|       CD41B|  M|5051500|0294400|590|\n",
      "|200500000002|  5|   1|  21|1600|  1|  2|  1|  1|  1| 51|rue de Lille|  M|5053700|0280200|590|\n",
      "|200500000003|  5|   1|  21|1845|  3|  1|  1|  2|  1| 51|        null|  M|5054600|0280000|590|\n",
      "|200500000004|  5|   1|   4|1615|  1|  1|  1|  1|  5| 82|        null|  M|5098700|0240800|590|\n",
      "|200500000005|  5|   1|  10|1945|  3|  1|  1|  3|  6|478|        null|  M|5096400|0247500|590|\n",
      "+------------+---+----+----+----+---+---+---+---+---+---+------------+---+-------+-------+---+\n",
      "only showing top 5 rows\n",
      "\n",
      "root\n",
      " |-- Num_Acc: long (nullable = true)\n",
      " |-- an: integer (nullable = true)\n",
      " |-- mois: integer (nullable = true)\n",
      " |-- jour: integer (nullable = true)\n",
      " |-- hrmn: integer (nullable = true)\n",
      " |-- lum: integer (nullable = true)\n",
      " |-- agg: integer (nullable = true)\n",
      " |-- int: integer (nullable = true)\n",
      " |-- atm: integer (nullable = true)\n",
      " |-- col: integer (nullable = true)\n",
      " |-- com: integer (nullable = true)\n",
      " |-- adr: string (nullable = true)\n",
      " |-- gps: string (nullable = true)\n",
      " |-- lat: string (nullable = true)\n",
      " |-- long: string (nullable = true)\n",
      " |-- dep: string (nullable = true)\n",
      "\n"
     ]
    }
   ],
   "source": [
    "for key in result.keys():\n",
    "    print(\"{0} has {1} variables and {2} rows\".\\\n",
    "          format(key, len(result[key].columns),result[key].count() ))\n",
    "    result[key].show(5)\n",
    "    result[key].printSchema()"
   ]
  },
  {
   "cell_type": "markdown",
   "metadata": {},
   "source": [
    "**Step 2** : We join the 4 dataframes and store them in `df`.\n"
   ]
  },
  {
   "cell_type": "code",
   "execution_count": 47,
   "metadata": {},
   "outputs": [],
   "source": [
    "df_lieux = result['lieux']\n",
    "df_carac = result['caracteristiques']\n",
    "df_usagers = result['usagers']\n",
    "df_vehicules = result['vehicules']\n",
    "\n",
    "to_join = [df_carac,df_usagers ,df_vehicules]\n",
    "\n",
    "#joining and avoid duplicate\n",
    "df= df_lieux\n",
    "key = 'Num_Acc'\n",
    "for df_right in to_join:\n",
    "    common_colname = [col for col in df_right.columns if col in df.columns ]\n",
    "    common_colname.remove(key)    \n",
    "    if common_colname:\n",
    "        for duplicate in common_colname:\n",
    "            df_right = df_right.withColumnRenamed(duplicate, duplicate +'_')\n",
    "    df = df.join(df_right , on=key, how='inner')"
   ]
  },
  {
   "cell_type": "markdown",
   "metadata": {},
   "source": [
    "**Check 2** : we check that all years are actually in the data dataframe `df`."
   ]
  },
  {
   "cell_type": "code",
   "execution_count": 48,
   "metadata": {},
   "outputs": [
    {
     "name": "stdout",
     "output_type": "stream",
     "text": [
      "+---+------+\n",
      "| an| count|\n",
      "+---+------+\n",
      "|  5|374561|\n",
      "|  6|362507|\n",
      "|  7|356228|\n",
      "|  8|322196|\n",
      "|  9|311706|\n",
      "| 10|288112|\n",
      "| 11|281675|\n",
      "| 12|263194|\n",
      "| 13|242163|\n",
      "| 14|248642|\n",
      "| 15|245706|\n",
      "| 16|257286|\n",
      "+---+------+\n",
      "\n"
     ]
    }
   ],
   "source": [
    "df.groupBy('an').count().sort(\"an\", ascending=True).show()"
   ]
  },
  {
   "cell_type": "markdown",
   "metadata": {},
   "source": [
    "## Reduced dataset"
   ]
  },
  {
   "cell_type": "markdown",
   "metadata": {},
   "source": [
    "For the sake of simplicity, we keep only variables of interest for data exploration and prediction of the level of seriousness of accidents (`grav`). The interested reader should refer to the online documentation for more information on each of these variables."
   ]
  },
  {
   "cell_type": "code",
   "execution_count": 51,
   "metadata": {},
   "outputs": [],
   "source": [
    "col_keep = [\"grav\", \"Num_Acc\", \"num_veh\", \"mois\", \"an\", \"hrmn\", \"lum\", \"dep\",\n",
    "          \"com\", \"agg\", \"int\", \"atm\", \"col\", \"catr\", \"circ\", \n",
    "          \"nbv\", \"prof\", \"plan\", \"larrout\", \"surf\", \"infra\", \n",
    "          \"situ\", \"catv\", \"obs\", \"obsm\", \"choc\", \"manv\", \"place\",\n",
    "         \"catu\", \"sexe\", \"An_nais\", \"secu\"]\n",
    "\n",
    "df_keep = df.select([F.col(c) for c in col_keep])"
   ]
  },
  {
   "cell_type": "markdown",
   "metadata": {},
   "source": [
    "**Save** : We save `df_keep` which will be the base unit of future investigations. We also save a `df_vehicules`"
   ]
  },
  {
   "cell_type": "code",
   "execution_count": 66,
   "metadata": {},
   "outputs": [],
   "source": [
    "df_keep.\\\n",
    "repartition(1).\\\n",
    "write.format(\"com.databricks.spark.csv\").\\\n",
    "option(\"header\",\"true\").\\\n",
    "save(\"df_keep\")"
   ]
  },
  {
   "cell_type": "code",
   "execution_count": 11,
   "metadata": {},
   "outputs": [],
   "source": [
    "df_vehicules.\\\n",
    "repartition(1).\\\n",
    "write.format(\"com.databricks.spark.csv\").\\\n",
    "option(\"header\",\"true\").\\\n",
    "save(\"df_vehicules\")"
   ]
  },
  {
   "cell_type": "markdown",
   "metadata": {},
   "source": [
    "Rearranging files."
   ]
  },
  {
   "cell_type": "code",
   "execution_count": 67,
   "metadata": {
    "scrolled": true
   },
   "outputs": [
    {
     "name": "stdout",
     "output_type": "stream",
     "text": [
      "part-00000-c2354000-3b69-4a88-9666-0cacf6a6bfeb-c000.csv  _SUCCESS\r\n"
     ]
    }
   ],
   "source": [
    "ls df_keep/"
   ]
  },
  {
   "cell_type": "code",
   "execution_count": 14,
   "metadata": {},
   "outputs": [
    {
     "name": "stdout",
     "output_type": "stream",
     "text": [
      "part-00000-39bf1862-fc34-4df5-bfa8-5611593cea3c-c000.csv  _SUCCESS\r\n"
     ]
    }
   ],
   "source": [
    "ls df_vehicules/"
   ]
  },
  {
   "cell_type": "code",
   "execution_count": 68,
   "metadata": {},
   "outputs": [],
   "source": [
    "mv df_keep/part-00000-c2354000-3b69-4a88-9666-0cacf6a6bfeb-c000.csv dataSample/df_keep.csv\n",
    "mv df_vehicules/part-00000-39bf1862-fc34-4df5-bfa8-5611593cea3c-c000.csv dataSample/df_vehicules.csv"
   ]
  },
  {
   "cell_type": "code",
   "execution_count": 75,
   "metadata": {},
   "outputs": [],
   "source": [
    "!rm -rf df_keep/\n",
    "!rm -rf df_vehicules"
   ]
  },
  {
   "cell_type": "markdown",
   "metadata": {},
   "source": [
    "**Output** : \n",
    "- dataSample/df_keep.csv - contains only relevant variables for analysis and `grav` prediction\n",
    "- dataSample/df_vehicules.csv - used in data exploration"
   ]
  }
 ],
 "metadata": {
  "kernelspec": {
   "display_name": "Python 3",
   "language": "python",
   "name": "python3"
  },
  "language_info": {
   "codemirror_mode": {
    "name": "ipython",
    "version": 3
   },
   "file_extension": ".py",
   "mimetype": "text/x-python",
   "name": "python",
   "nbconvert_exporter": "python",
   "pygments_lexer": "ipython3",
   "version": "3.6.4"
  }
 },
 "nbformat": 4,
 "nbformat_minor": 2
}
