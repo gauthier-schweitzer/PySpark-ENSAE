{
 "cells": [
  {
   "cell_type": "code",
   "execution_count": 1,
   "metadata": {},
   "outputs": [],
   "source": [
    "from pyspark.sql import SparkSession\n",
    "spark = SparkSession.builder.getOrCreate()"
   ]
  },
  {
   "cell_type": "code",
   "execution_count": 2,
   "metadata": {},
   "outputs": [],
   "source": [
    "from pyspark.sql import functions as F\n",
    "from pyspark.sql.functions import udf\n",
    "from pyspark.sql.types import *\n",
    "from pyspark.ml.feature import OneHotEncoder, StringIndexer, Binarizer\n",
    "from pyspark.ml.feature import VectorAssembler\n",
    "from pyspark.ml import Pipeline\n",
    "from pyspark.ml.regression import LinearRegression\n",
    "from pyspark.ml.classification import LogisticRegression\n",
    "from pyspark.ml.feature import PCA\n",
    "from pyspark.ml.evaluation import RegressionEvaluator, BinaryClassificationEvaluator\n",
    "from pyspark.ml.tuning import ParamGridBuilder, CrossValidator\n",
    "from sklearn.metrics import confusion_matrix\n",
    "import matplotlib.pyplot as plt\n",
    "import seaborn as sns\n",
    "sns.set()\n",
    "%matplotlib inline"
   ]
  },
  {
   "cell_type": "code",
   "execution_count": 3,
   "metadata": {},
   "outputs": [],
   "source": [
    "from jyquickhelper import add_notebook_menu\n",
    "from progressbar import ProgressBar"
   ]
  },
  {
   "cell_type": "code",
   "execution_count": 4,
   "metadata": {},
   "outputs": [
    {
     "data": {
      "text/html": [
       "<div id=\"my_id_menu_nb\">run previous cell, wait for 2 seconds</div>\n",
       "<script>\n",
       "function repeat_indent_string(n){\n",
       "    var a = \"\" ;\n",
       "    for ( ; n > 0 ; --n)\n",
       "        a += \"    \";\n",
       "    return a;\n",
       "}\n",
       "// look up into all sections and builds an automated menu //\n",
       "var update_menu_string = function(begin, lfirst, llast, sformat, send, keep_item, begin_format, end_format) {\n",
       "    var anchors = document.getElementsByClassName(\"section\");\n",
       "    if (anchors.length == 0) {\n",
       "        anchors = document.getElementsByClassName(\"text_cell_render rendered_html\");\n",
       "    }\n",
       "    var i,t;\n",
       "    var text_menu = begin;\n",
       "    var text_memo = \"<pre>\\nlength:\" + anchors.length + \"\\n\";\n",
       "    var ind = \"\";\n",
       "    var memo_level = 1;\n",
       "    var href;\n",
       "    var tags = [];\n",
       "    var main_item = 0;\n",
       "    var format_open = 0;\n",
       "    for (i = 0; i <= llast; i++)\n",
       "        tags.push(\"h\" + i);\n",
       "\n",
       "    for (i = 0; i < anchors.length; i++) {\n",
       "        text_memo += \"**\" + anchors[i].id + \"--\\n\";\n",
       "\n",
       "        var child = null;\n",
       "        for(t = 0; t < tags.length; t++) {\n",
       "            var r = anchors[i].getElementsByTagName(tags[t]);\n",
       "            if (r.length > 0) {\n",
       "child = r[0];\n",
       "break;\n",
       "            }\n",
       "        }\n",
       "        if (child == null) {\n",
       "            text_memo += \"null\\n\";\n",
       "            continue;\n",
       "        }\n",
       "        if (anchors[i].hasAttribute(\"id\")) {\n",
       "            // when converted in RST\n",
       "            href = anchors[i].id;\n",
       "            text_memo += \"#1-\" + href;\n",
       "            // passer à child suivant (le chercher)\n",
       "        }\n",
       "        else if (child.hasAttribute(\"id\")) {\n",
       "            // in a notebook\n",
       "            href = child.id;\n",
       "            text_memo += \"#2-\" + href;\n",
       "        }\n",
       "        else {\n",
       "            text_memo += \"#3-\" + \"*\" + \"\\n\";\n",
       "            continue;\n",
       "        }\n",
       "        var title = child.textContent;\n",
       "        var level = parseInt(child.tagName.substring(1,2));\n",
       "\n",
       "        text_memo += \"--\" + level + \"?\" + lfirst + \"--\" + title + \"\\n\";\n",
       "\n",
       "        if ((level < lfirst) || (level > llast)) {\n",
       "            continue ;\n",
       "        }\n",
       "        if (title.endsWith('¶')) {\n",
       "            title = title.substring(0,title.length-1).replace(\"<\", \"&lt;\")\n",
       "         .replace(\">\", \"&gt;\").replace(\"&\", \"&amp;\");\n",
       "        }\n",
       "        if (title.length == 0) {\n",
       "            continue;\n",
       "        }\n",
       "\n",
       "        while (level < memo_level) {\n",
       "            text_menu += end_format + \"</ul>\\n\";\n",
       "            format_open -= 1;\n",
       "            memo_level -= 1;\n",
       "        }\n",
       "        if (level == lfirst) {\n",
       "            main_item += 1;\n",
       "        }\n",
       "        if (keep_item != -1 && main_item != keep_item + 1) {\n",
       "            // alert(main_item + \" - \" + level + \" - \" + keep_item);\n",
       "            continue;\n",
       "        }\n",
       "        while (level > memo_level) {\n",
       "            text_menu += \"<ul>\\n\";\n",
       "            memo_level += 1;\n",
       "        }\n",
       "        text_menu += repeat_indent_string(level-2);\n",
       "        text_menu += begin_format + sformat.replace(\"__HREF__\", href).replace(\"__TITLE__\", title);\n",
       "        format_open += 1;\n",
       "    }\n",
       "    while (1 < memo_level) {\n",
       "        text_menu += end_format + \"</ul>\\n\";\n",
       "        memo_level -= 1;\n",
       "        format_open -= 1;\n",
       "    }\n",
       "    text_menu += send;\n",
       "    //text_menu += \"\\n\" + text_memo;\n",
       "\n",
       "    while (format_open > 0) {\n",
       "        text_menu += end_format;\n",
       "        format_open -= 1;\n",
       "    }\n",
       "    return text_menu;\n",
       "};\n",
       "var update_menu = function() {\n",
       "    var sbegin = \"\";\n",
       "    var sformat = '<a href=\"#__HREF__\">__TITLE__</a>';\n",
       "    var send = \"\";\n",
       "    var begin_format = '<li>';\n",
       "    var end_format = '</li>';\n",
       "    var keep_item = -1;\n",
       "    var text_menu = update_menu_string(sbegin, 2, 4, sformat, send, keep_item,\n",
       "       begin_format, end_format);\n",
       "    var menu = document.getElementById(\"my_id_menu_nb\");\n",
       "    menu.innerHTML=text_menu;\n",
       "};\n",
       "window.setTimeout(update_menu,2000);\n",
       "            </script>"
      ],
      "text/plain": [
       "<IPython.core.display.HTML object>"
      ]
     },
     "execution_count": 4,
     "metadata": {},
     "output_type": "execute_result"
    }
   ],
   "source": [
    "add_notebook_menu()"
   ]
  },
  {
   "cell_type": "markdown",
   "metadata": {},
   "source": [
    "# Preprocessing"
   ]
  },
  {
   "cell_type": "markdown",
   "metadata": {},
   "source": [
    "The purpose of this notebook is to process the variables of interest to make them suitable for a ml pipeline. Next, we summarize the transformations we intend to apply to the variables in `df`."
   ]
  },
  {
   "cell_type": "markdown",
   "metadata": {},
   "source": [
    "|Var Name | type| Processing |\n",
    "|:--|:--|:--|\n",
    "|'grav' | integer | ** |\n",
    "| 'Num_Acc'|long | | \n",
    "| 'num_veh'|string | drop |\n",
    "| 'mois'|integer |OneHotEncoder (\\*) |\n",
    "| 'an'|integer | (x-5)|\n",
    "| 'hrmn'|integer | drop |\n",
    "| 'lum' |integer |OneHotEncoder (\\*)|\n",
    "| 'dep' |integer |drop |\n",
    "| 'com' |integer |drop |\n",
    "| 'agg' |integer |(x-1) |\n",
    "| 'int' |integer |OneHotEncoder (\\*)|\n",
    "| 'atm' |integer |OneHotEncoder (\\*)|\n",
    "| 'col' |integer |OneHotEncoder (\\*)|\n",
    "| 'catr'|integer |OneHotEncoder (\\*)|\n",
    "| 'circ'|integer |OneHotEncoder (\\*)|\n",
    "| 'nbv' |integer | |\n",
    "| 'prof'|integer |OneHotEncoder (\\*)|\n",
    "| 'plan'|integer |OneHotEncoder (\\*)|\n",
    "| 'larrout'|integer | |\n",
    "| 'surf'|integer | OneHotEncoder (\\*)|\n",
    "| 'infra'|integer | OneHotEncoder (\\*)|\n",
    "| 'situ'|integer | OneHotEncoder (\\*)|\n",
    "| 'catv'|integer | OneHotEncoder (\\*) + reduce #typo|\n",
    "| 'obs' |integer |OneHotEncoder (\\*)|\n",
    "| 'obsm'|integer |OneHotEncoder (\\*)|\n",
    "| 'choc'|integer |OneHotEncoder (\\*)|\n",
    "| 'manv'|integer |OneHotEncoder (\\*)|\n",
    "| 'place'|integer | drop |\n",
    "| 'catu'|integer | OneHotEncoder (\\*)|\n",
    "| 'sexe'|integer | OneHotEncoder (\\*)|\n",
    "| 'An_nais'|integer | (x-45)^2 |\n",
    "| 'secu'|integer | ? |"
   ]
  },
  {
   "cell_type": "code",
   "execution_count": 5,
   "metadata": {},
   "outputs": [],
   "source": [
    "df = spark.read.csv(\"dataSample/df_keep.csv\", \n",
    "                    inferSchema=True, \n",
    "                    header=True)"
   ]
  },
  {
   "cell_type": "code",
   "execution_count": 6,
   "metadata": {},
   "outputs": [],
   "source": [
    "df = df.sample(withReplacement=False, fraction=.2)"
   ]
  },
  {
   "cell_type": "markdown",
   "metadata": {},
   "source": [
    "## Drop na"
   ]
  },
  {
   "cell_type": "markdown",
   "metadata": {},
   "source": [
    "Prior to any data processing and model estimation we need to drop all rows with `null` values"
   ]
  },
  {
   "cell_type": "code",
   "execution_count": 7,
   "metadata": {},
   "outputs": [],
   "source": [
    "df = df.na.drop()"
   ]
  },
  {
   "cell_type": "markdown",
   "metadata": {},
   "source": [
    "## Target"
   ]
  },
  {
   "cell_type": "markdown",
   "metadata": {},
   "source": [
    "**Reminder**: `grav` is coded as follows:\n",
    "\n",
    "- 1: None\n",
    "- 2: death\n",
    "- 3: hospital\n",
    "- 4: minor\n",
    "\n",
    "We chose to transform this typology into a binary variable (called `grav_bin`) where :\n",
    "\n",
    "- `grav_bin` = 0 if `grav`==None\n",
    "- `grav_bin` = 1 else\n",
    "\n",
    "Our prediction task is thus a classification task"
   ]
  },
  {
   "cell_type": "code",
   "execution_count": 8,
   "metadata": {},
   "outputs": [],
   "source": [
    "def make_ord(x):\n",
    "    if x==1:\n",
    "        return(0) # None : 0\n",
    "    else:\n",
    "        return(1) # else : 1\n",
    "udf_ord = udf(make_ord, IntegerType())    "
   ]
  },
  {
   "cell_type": "code",
   "execution_count": 9,
   "metadata": {},
   "outputs": [],
   "source": [
    "df = df.withColumn(\"grav_bin\", udf_ord(\"grav\"))"
   ]
  },
  {
   "cell_type": "markdown",
   "metadata": {},
   "source": [
    "**Check**: we check that our binary variable is balanced, which is the case."
   ]
  },
  {
   "cell_type": "code",
   "execution_count": 10,
   "metadata": {},
   "outputs": [
    {
     "name": "stdout",
     "output_type": "stream",
     "text": [
      "+--------+------+\n",
      "|grav_bin| count|\n",
      "+--------+------+\n",
      "|       1|371904|\n",
      "|       0|307504|\n",
      "+--------+------+\n",
      "\n"
     ]
    }
   ],
   "source": [
    "df.groupBy(\"grav_bin\").count().show()"
   ]
  },
  {
   "cell_type": "code",
   "execution_count": 11,
   "metadata": {},
   "outputs": [],
   "source": [
    "df = df.persist()"
   ]
  },
  {
   "cell_type": "markdown",
   "metadata": {},
   "source": [
    "## Features"
   ]
  },
  {
   "cell_type": "markdown",
   "metadata": {},
   "source": [
    "### Catv"
   ]
  },
  {
   "cell_type": "markdown",
   "metadata": {},
   "source": [
    "Due to the very large number of categories (including outdated categories) we chose to restrict to 5 categories (as in Section 2), aka : \n",
    "\n",
    "- 1: bike\n",
    "- 2: motorbike\n",
    "- 3: car\n",
    "- 4: bus\n",
    "- 99: other"
   ]
  },
  {
   "cell_type": "code",
   "execution_count": 12,
   "metadata": {},
   "outputs": [],
   "source": [
    "def vehicle_conversion(x):\n",
    "    if (x in {2, 4, 5, 6,30 , 31, 32, 33, 34}):\n",
    "        return(int(2)) # motorbike\n",
    "    if (x in {3, 7, 10}):\n",
    "        return(int(3)) # car\n",
    "    if (x in {37, 18}):\n",
    "        return(int(4)) # bus\n",
    "    if (x in {1}):\n",
    "        return(int(1)) # bike\n",
    "    else:\n",
    "        return(int(99))\n",
    "\n",
    "udf_vehicle_conversion = udf(vehicle_conversion, StringType())"
   ]
  },
  {
   "cell_type": "code",
   "execution_count": 13,
   "metadata": {},
   "outputs": [],
   "source": [
    "df = df.withColumn(\"catv_str\",udf_vehicle_conversion(\"catv\"))\n",
    "df = df.withColumn(\"catv_int\", df[\"catv_str\"].cast(\"int\"))\n",
    "df = df.drop(\"catv\",\"catv_str\")\n",
    "df = df.withColumnRenamed(\"catv_int\", \"catv\")"
   ]
  },
  {
   "cell_type": "code",
   "execution_count": 14,
   "metadata": {
    "scrolled": true
   },
   "outputs": [
    {
     "name": "stdout",
     "output_type": "stream",
     "text": [
      "+----+------+\n",
      "|catv| count|\n",
      "+----+------+\n",
      "|   1| 22111|\n",
      "|   2|133326|\n",
      "|   3|486898|\n",
      "|   4|  5772|\n",
      "|  99| 31301|\n",
      "+----+------+\n",
      "\n"
     ]
    }
   ],
   "source": [
    "df.groupBy(\"catv\").count().sort(\"catv\",ascending=True).show()"
   ]
  },
  {
   "cell_type": "markdown",
   "metadata": {},
   "source": [
    "### Numeric transfo"
   ]
  },
  {
   "cell_type": "markdown",
   "metadata": {},
   "source": [
    "Did not find how to do it directly in the pipeline. Is it even possible ? "
   ]
  },
  {
   "cell_type": "code",
   "execution_count": 15,
   "metadata": {},
   "outputs": [],
   "source": [
    "df = df.withColumn(\"an_mod\", df.an - 5)\n",
    "df = df.withColumn(\"An_nais_mod\", pow(df.An_nais - 45, 2))"
   ]
  },
  {
   "cell_type": "code",
   "execution_count": 16,
   "metadata": {},
   "outputs": [],
   "source": [
    "def get_dummy(x):\n",
    "    if x==1:\n",
    "        return(0)\n",
    "    else:\n",
    "        return(1)\n",
    "udf_dum = udf(get_dummy, IntegerType())    "
   ]
  },
  {
   "cell_type": "code",
   "execution_count": 17,
   "metadata": {},
   "outputs": [],
   "source": [
    "df = df.withColumn(\"agg_mod\", udf_dum(\"agg\"))"
   ]
  },
  {
   "cell_type": "code",
   "execution_count": 18,
   "metadata": {},
   "outputs": [],
   "source": [
    "df = df.persist()"
   ]
  },
  {
   "cell_type": "markdown",
   "metadata": {},
   "source": [
    "# Prediction task"
   ]
  },
  {
   "cell_type": "markdown",
   "metadata": {},
   "source": [
    "## Train-test"
   ]
  },
  {
   "cell_type": "code",
   "execution_count": 19,
   "metadata": {},
   "outputs": [],
   "source": [
    "df_train, df_test =  df.randomSplit([.7, .3])"
   ]
  },
  {
   "cell_type": "markdown",
   "metadata": {},
   "source": [
    "## Pipeline stages"
   ]
  },
  {
   "cell_type": "markdown",
   "metadata": {},
   "source": [
    "### OneHotEncoder"
   ]
  },
  {
   "cell_type": "markdown",
   "metadata": {},
   "source": [
    "We need to transform categorical variables to make them understandable by spark `ml` models. \n",
    "\n",
    "**Beware**: Depending on the model, we need to drop a category to avoid colinearity (eg, linear regression) or not (eg, CART)."
   ]
  },
  {
   "cell_type": "code",
   "execution_count": 20,
   "metadata": {
    "scrolled": true
   },
   "outputs": [],
   "source": [
    "encode_col = [\"mois\", \"lum\", \"int\", \"atm\", \"col\", \"catr\", \n",
    "              \"circ\", \"prof\", \"plan\", \"surf\", \"infra\", \"situ\", \"catv\",\n",
    "              \"obs\", \"obsm\", \"choc\", \"manv\", \"catu\", \"sexe\"]\n",
    "encoder_dl= [] # droplast=True\n",
    "encoder_ndl= [] # droplast=False\n",
    "\n",
    "for col in encode_col:\n",
    "    encoder_dl += [OneHotEncoder(inputCol=col,\n",
    "                                      outputCol=col+\"_Vec\")]\n",
    "    encoder_ndl += [OneHotEncoder(inputCol=col,\n",
    "                                       outputCol=col+\"_Vec\",\n",
    "                                       dropLast=False)]"
   ]
  },
  {
   "cell_type": "markdown",
   "metadata": {},
   "source": [
    "### VectorAssembler"
   ]
  },
  {
   "cell_type": "code",
   "execution_count": 21,
   "metadata": {},
   "outputs": [],
   "source": [
    "cat_col = [col + \"_Vec\" for col in encode_col]\n",
    "mod_col = [\"an_mod\", \"An_nais_mod\", \"agg_mod\"]\n",
    "task_col = cat_col + mod_col\n"
   ]
  },
  {
   "cell_type": "code",
   "execution_count": 22,
   "metadata": {},
   "outputs": [],
   "source": [
    "assembler = [VectorAssembler(inputCols=task_col, \n",
    "                                     outputCol='features')]"
   ]
  },
  {
   "cell_type": "markdown",
   "metadata": {},
   "source": [
    "### PCA"
   ]
  },
  {
   "cell_type": "markdown",
   "metadata": {},
   "source": [
    "Dimensionality reduction might be useful due to large number of categories and thus variables. In theory, similar task might be achieved through regularization but in practice this might not be sufficient. "
   ]
  },
  {
   "cell_type": "code",
   "execution_count": 23,
   "metadata": {},
   "outputs": [],
   "source": [
    "pca = [PCA(k=10, inputCol='features', outputCol='featuresPCA')]"
   ]
  },
  {
   "cell_type": "markdown",
   "metadata": {},
   "source": [
    "### Models"
   ]
  },
  {
   "cell_type": "code",
   "execution_count": 25,
   "metadata": {},
   "outputs": [],
   "source": [
    "lr = LinearRegression(labelCol=\"grav_bin\", featuresCol='featuresPCA')"
   ]
  },
  {
   "cell_type": "code",
   "execution_count": 37,
   "metadata": {},
   "outputs": [],
   "source": [
    "lo = LogisticRegression(labelCol=\"grav_bin\", featuresCol='featuresPCA', maxIter=10,)"
   ]
  },
  {
   "cell_type": "markdown",
   "metadata": {},
   "source": [
    "## Models estimation"
   ]
  },
  {
   "cell_type": "markdown",
   "metadata": {},
   "source": [
    "### Linear Regression"
   ]
  },
  {
   "cell_type": "code",
   "execution_count": 46,
   "metadata": {},
   "outputs": [],
   "source": [
    "binz = [Binarizer(threshold=.5, \n",
    "                      inputCol=\"prediction\", outputCol=\"pred_bin\")]"
   ]
  },
  {
   "cell_type": "code",
   "execution_count": 47,
   "metadata": {},
   "outputs": [],
   "source": [
    "Stages = encoder_dl + assembler + pca + [lr] + binz\n",
    "PipelineModel = Pipeline(stages=Stages)\n",
    "df_trte_lr = PipelineModel.fit(df_train).transform(df_test)"
   ]
  },
  {
   "cell_type": "code",
   "execution_count": 48,
   "metadata": {},
   "outputs": [],
   "source": [
    "lrModel = lr.fit(df_trte_lr.drop(\"prediction\"))"
   ]
  },
  {
   "cell_type": "code",
   "execution_count": 49,
   "metadata": {},
   "outputs": [
    {
     "data": {
      "text/plain": [
       "DenseVector([0.0, 0.005, 0.0382, 0.0639, 0.0009, 0.0416, 0.0483, 0.0663, 0.0506, -0.0314])"
      ]
     },
     "execution_count": 49,
     "metadata": {},
     "output_type": "execute_result"
    }
   ],
   "source": [
    "lrModel.coefficients"
   ]
  },
  {
   "cell_type": "markdown",
   "metadata": {},
   "source": [
    "### Logistic Regression"
   ]
  },
  {
   "cell_type": "code",
   "execution_count": 34,
   "metadata": {},
   "outputs": [],
   "source": [
    "Stages = encoder_dl + assembler + pca + [lo]\n",
    "PipelineModel = Pipeline(stages=Stages)"
   ]
  },
  {
   "cell_type": "markdown",
   "metadata": {},
   "source": [
    "For the Logistic Regression, we decide to add a grid Search to optimize on several hyperparameters, namely :\n",
    "- `RegParam` ($\\lambda$ in the following formula)\n",
    "- `ElasticNetParam` (combination of $L_1$ and $L_2$ regularizations; $\\alpha$ in the following formula)\n",
    "    $$\\alpha \\left( \\lambda \\|w\\|_1 \\right) + (1-\\alpha) \\left( \\frac{\\lambda}{2}\\|w\\|_2^2 \\right) , \\alpha \\in [0, 1], \\lambda \\geq 0$$"
   ]
  },
  {
   "cell_type": "code",
   "execution_count": 38,
   "metadata": {},
   "outputs": [],
   "source": [
    "# We now treat the Pipeline as an Estimator, wrapping it in a CrossValidator instance.\n",
    "paramGridSearch = (ParamGridBuilder()\n",
    "                   .addGrid(lo.regParam, [0.01, 0.1, 1]) \n",
    "                   .addGrid(lo.elasticNetParam, [0.0, 0.5, 1.0])\n",
    "                   .build())\n",
    "\n",
    "eval_lo = BinaryClassificationEvaluator(labelCol=\"grav_bin\")\n",
    "\n",
    "crossval = CrossValidator(estimator=PipelineModel,\n",
    "                    estimatorParamMaps=paramGridSearch,\n",
    "                    evaluator=eval_lo,\n",
    "                    numFolds=3)\n",
    "\n",
    "# Run cross-validation, and choose the best set of parameters.\n",
    "cvModel = crossval.fit(df_train)"
   ]
  },
  {
   "cell_type": "code",
   "execution_count": 44,
   "metadata": {},
   "outputs": [
    {
     "data": {
      "text/plain": [
       "DenseVector([0.0, 0.0154, 0.1643, 0.2709, -0.0084, 0.1873, 0.2143, 0.311, 0.2389, -0.1486])"
      ]
     },
     "execution_count": 44,
     "metadata": {},
     "output_type": "execute_result"
    }
   ],
   "source": [
    "df_trte_lo = cvModel.transform(df_test)\n",
    "loModel = lo.fit(df_trte_lo.drop(\"rawprediction\",\"prediction\",\"probability\"))\n",
    "loModel.coefficients"
   ]
  },
  {
   "cell_type": "markdown",
   "metadata": {},
   "source": [
    "## Models evaluation"
   ]
  },
  {
   "cell_type": "markdown",
   "metadata": {},
   "source": [
    "### Linear Regression"
   ]
  },
  {
   "cell_type": "markdown",
   "metadata": {},
   "source": [
    "**Check**: we check that our predictor does predict both zeros and ones (it does)."
   ]
  },
  {
   "cell_type": "code",
   "execution_count": 50,
   "metadata": {},
   "outputs": [
    {
     "name": "stdout",
     "output_type": "stream",
     "text": [
      "+--------+------+\n",
      "|pred_bin| count|\n",
      "+--------+------+\n",
      "|     0.0| 69485|\n",
      "|     1.0|133713|\n",
      "+--------+------+\n",
      "\n"
     ]
    }
   ],
   "source": [
    "df_trte_lr.groupBy(\"pred_bin\").count().show()"
   ]
  },
  {
   "cell_type": "markdown",
   "metadata": {},
   "source": [
    "Next we look at the confusion matrix and some basic statistics."
   ]
  },
  {
   "cell_type": "code",
   "execution_count": 51,
   "metadata": {},
   "outputs": [],
   "source": [
    "lr_conf_df = df_trte_lr.select(\"pred_bin\", \"grav_bin\").toPandas()"
   ]
  },
  {
   "cell_type": "code",
   "execution_count": 52,
   "metadata": {},
   "outputs": [],
   "source": [
    "def draw_confmat(true_l, pred_l):\n",
    "    \"\"\"Returns the confusion matrix and basic statistics\n",
    "    :param true_l: (list) true labels\n",
    "    :param pred_l: (list) predicted labels\n",
    "    :return: confusion matrix and basic statistics\n",
    "    \"\"\"\n",
    "    mat = confusion_matrix(true_l,\n",
    "                pred_l)\n",
    "    sns.heatmap(mat.T,\n",
    "                square=True,\n",
    "                annot=True,\n",
    "                fmt='d',\n",
    "                cbar=False)\n",
    "    plt.xlabel('true label')\n",
    "    plt.ylabel('predicted label');\n",
    "    print(\"{0:.2f}% of the test set is well classified\".\\\n",
    "          format((mat[0,0]+mat[1,1])/len(lr_conf_df)*100))"
   ]
  },
  {
   "cell_type": "code",
   "execution_count": 53,
   "metadata": {
    "scrolled": false
   },
   "outputs": [
    {
     "name": "stdout",
     "output_type": "stream",
     "text": [
      "58.99% of the test set is well classified\n"
     ]
    },
    {
     "data": {
      "image/png": "[encoded data removed]",
      "text/plain": [
       "<matplotlib.figure.Figure at 0x7f2792862128>"
      ]
     },
     "metadata": {},
     "output_type": "display_data"
    }
   ],
   "source": [
    "draw_confmat(lr_conf_df.grav_bin.values,\n",
    "                lr_conf_df.pred_bin.values)\n"
   ]
  },
  {
   "cell_type": "markdown",
   "metadata": {},
   "source": [
    "### Logistic Regression"
   ]
  },
  {
   "cell_type": "code",
   "execution_count": 57,
   "metadata": {
    "scrolled": true
   },
   "outputs": [
    {
     "name": "stdout",
     "output_type": "stream",
     "text": [
      "+----------+------+\n",
      "|prediction| count|\n",
      "+----------+------+\n",
      "|       0.0| 69794|\n",
      "|       1.0|133404|\n",
      "+----------+------+\n",
      "\n"
     ]
    }
   ],
   "source": [
    "df_trte_lo.groupBy(\"prediction\").count().show()"
   ]
  },
  {
   "cell_type": "code",
   "execution_count": 58,
   "metadata": {},
   "outputs": [],
   "source": [
    "lo_conf_df = df_trte_lo.select(\"prediction\", \"grav_bin\").toPandas()"
   ]
  },
  {
   "cell_type": "code",
   "execution_count": 59,
   "metadata": {},
   "outputs": [
    {
     "name": "stdout",
     "output_type": "stream",
     "text": [
      "58.98% of the test set is well classified\n"
     ]
    },
    {
     "data": {
      "image/png": "[encoded data removed]",
      "text/plain": [
       "<matplotlib.figure.Figure at 0x7f27905812e8>"
      ]
     },
     "metadata": {},
     "output_type": "display_data"
    }
   ],
   "source": [
    "draw_confmat(lo_conf_df.grav_bin.values,\n",
    "            lo_conf_df.prediction.values)"
   ]
  },
  {
   "cell_type": "markdown",
   "metadata": {},
   "source": [
    "> The performance is actually fairly bad. However, due to computational issues (our local version of Spark needs quite a long time to perform the cross validation, we cannot test more hyperparameters."
   ]
  }
 ],
 "metadata": {
  "kernelspec": {
   "display_name": "Python 3",
   "language": "python",
   "name": "python3"
  },
  "language_info": {
   "codemirror_mode": {
    "name": "ipython",
    "version": 3
   },
   "file_extension": ".py",
   "mimetype": "text/x-python",
   "name": "python",
   "nbconvert_exporter": "python",
   "pygments_lexer": "ipython3",
   "version": "3.6.4"
  }
 },
 "nbformat": 4,
 "nbformat_minor": 2
}
